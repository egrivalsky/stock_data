{
 "cells": [
  {
   "cell_type": "code",
   "execution_count": 3,
   "id": "neither-empire",
   "metadata": {},
   "outputs": [],
   "source": [
    "from selenium import webdriver\n",
    "import datetime, re, requests, io, time, random, string\n",
    "from bs4 import BeautifulSoup\n",
    "from credentials import email, password\n",
    "from pymongo import MongoClient\n",
    "\n",
    "client = MongoClient('localhost', 27017)"
   ]
  },
  {
   "cell_type": "code",
   "execution_count": 4,
   "id": "after-chess",
   "metadata": {},
   "outputs": [
    {
     "data": {
      "text/plain": [
       "'https://wallmine.com/nasdaq/tsla'"
      ]
     },
     "execution_count": 4,
     "metadata": {},
     "output_type": "execute_result"
    }
   ],
   "source": [
    "urls = {\n",
    "      'sign_in': 'https://wallmine.com/users/sign-in',\n",
    "      'homepage': 'https://wallmine.com/',\n",
    "      'view_stock': lambda exchange, symbol: f'https://wallmine.com/{exchange}/{symbol}'\n",
    "     }\n",
    "\n",
    "urls['view_stock']('nasdaq','tsla')"
   ]
  },
  {
   "cell_type": "code",
   "execution_count": 7,
   "id": "amber-projector",
   "metadata": {},
   "outputs": [
    {
     "data": {
      "text/plain": [
       "'erikdotg@gmail.com'"
      ]
     },
     "execution_count": 7,
     "metadata": {},
     "output_type": "execute_result"
    }
   ],
   "source": [
    "email"
   ]
  },
  {
   "cell_type": "code",
   "execution_count": 30,
   "id": "affected-broadway",
   "metadata": {},
   "outputs": [],
   "source": [
    "driver.close()"
   ]
  },
  {
   "cell_type": "code",
   "execution_count": null,
   "id": "civil-andrew",
   "metadata": {},
   "outputs": [],
   "source": [
    "def login():\n",
    "    '''Method used to login into Wallmine account'''\n",
    "    driver.get(urls['sign_in'])\n",
    "    time.sleep(3)\n",
    "    driver.find_element_by_xpath('//*[@id=\"new_user\"]/div[5]/div[1]/div[2]/a').click()\n",
    "    time.sleep(0.5)\n",
    "    driver.find_element_by_xpath('//*[@id=\"user_email\"]').send_keys(email)\n",
    "    driver.find_element_by_xpath('//*[@id=\"user_password\"]').send_keys(password)\n",
    "    time.sleep(0.1)\n",
    "    driver.find_element_by_xpath('//*[@id=\"new_user\"]/div[5]/div[2]/div[1]/button').click()\n",
    "    time.sleep(3)\n",
    "    if driver.find_element_by_xpath('/html/body/main/section/div[2]/div/div[1]/h1/span'):\n",
    "        print('Login was successful')"
   ]
  }
 ],
 "metadata": {
  "kernelspec": {
   "display_name": "Python 3",
   "language": "python",
   "name": "python3"
  },
  "language_info": {
   "codemirror_mode": {
    "name": "ipython",
    "version": 3
   },
   "file_extension": ".py",
   "mimetype": "text/x-python",
   "name": "python",
   "nbconvert_exporter": "python",
   "pygments_lexer": "ipython3",
   "version": "3.9.2"
  }
 },
 "nbformat": 4,
 "nbformat_minor": 5
}
