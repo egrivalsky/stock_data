{
 "cells": [
  {
   "cell_type": "code",
   "execution_count": 127,
   "id": "arctic-natural",
   "metadata": {},
   "outputs": [],
   "source": [
    "from selenium import webdriver\n",
    "import datetime, re, requests, io, time, random, string\n",
    "from bs4 import BeautifulSoup\n",
    "from credentials import email, password\n",
    "from pymongo import MongoClient\n",
    "\n",
    "client = MongoClient('localhost', 27017)"
   ]
  },
  {
   "cell_type": "code",
   "execution_count": 128,
   "id": "removed-shell",
   "metadata": {},
   "outputs": [],
   "source": [
    "urls = {\n",
    "      'sign_in': 'https://wallmine.com/users/sign-in',\n",
    "      'homepage': 'https://wallmine.com/',\n",
    "      'view_stock': lambda exchange, symbol: f'https://wallmine.com/{exchange}/{symbol}'\n",
    "     }\n",
    "\n",
    "#urls['view_stock']('nasdaq','tsla')"
   ]
  },
  {
   "cell_type": "code",
   "execution_count": 129,
   "id": "regulated-manual",
   "metadata": {},
   "outputs": [
    {
     "data": {
      "text/plain": [
       "'erikdotg@gmail.com'"
      ]
     },
     "execution_count": 129,
     "metadata": {},
     "output_type": "execute_result"
    }
   ],
   "source": [
    "email"
   ]
  },
  {
   "cell_type": "code",
   "execution_count": 130,
   "id": "victorian-ratio",
   "metadata": {
    "tags": []
   },
   "outputs": [],
   "source": [
    "driver = webdriver.Chrome(r\"C:\\Users\\Erik\\Downloads\\chromedriver.exe\")"
   ]
  },
  {
   "cell_type": "code",
   "execution_count": 131,
   "id": "attended-system",
   "metadata": {},
   "outputs": [],
   "source": [
    "def login():\n",
    "    '''Method used to login into Wallmine account'''\n",
    "    driver.get(urls['sign_in'])\n",
    "    time.sleep(3)\n",
    "    driver.find_element_by_xpath('//*[@id=\"new_user\"]/div[5]/div[1]/div[2]/a').click()\n",
    "    time.sleep(0.5)\n",
    "    driver.find_element_by_xpath('//*[@id=\"user_email\"]').send_keys(email)\n",
    "    driver.find_element_by_xpath('//*[@id=\"user_password\"]').send_keys(password)\n",
    "    time.sleep(0.1)\n",
    "    driver.find_element_by_xpath('//*[@id=\"new_user\"]/div[5]/div[2]/div[1]/button').click()\n",
    "    time.sleep(3)\n",
    "    if driver.find_element_by_xpath('/html/body/main/section/div[2]/div/div[1]/h1/span'):\n",
    "        print('Login was successful')"
   ]
  },
  {
   "cell_type": "code",
   "execution_count": 132,
   "id": "thorough-musician",
   "metadata": {},
   "outputs": [
    {
     "name": "stdout",
     "output_type": "stream",
     "text": [
      "Login was successful\n"
     ]
    }
   ],
   "source": [
    "login()"
   ]
  },
  {
   "cell_type": "code",
   "execution_count": 76,
   "id": "experienced-bangkok",
   "metadata": {},
   "outputs": [],
   "source": [
    "def retrieve_data():\n",
    "    '''Method use to retrieve stock data from Wallmine'''\n",
    "    # We need to be on the site after login in order for this method to work\n",
    "#     driver.find_element_by_xpath('/html/body/main/section/div[3]/div[2]/div[1]/div[3]/div/div/a').click()\n",
    "    driver.get('https://wallmine.com/screener?e%5B%5D=NYSE&e%5B%5D=NASDAQ&e%5B%5D=NYSEMKT&hm=performance_today_with_ah&r=m')\n",
    "    time.sleep(5)\n",
    "    text = driver.find_element_by_xpath('/html/body/main/section/div[4]/div/div/div[1]/div/div[1]/h1').text\n",
    "    if text == 'Free Stock Screener':\n",
    "        print('On the right page')\n",
    "#     driver.find_element_by_xpath('/html/body/main/section/div[5]/form/div/div').click()\n",
    "#     time.sleep(1)\n",
    "#     driver.find_element_by_xpath('/html/body/main/section/div[5]/div/div/div[1]/div/ul/li[1]/a').click() # click on overview tab\n",
    "    driver.get('https://wallmine.com/screener?e%5B%5D=NASDAQ&e%5B%5D=NYSE&e%5B%5D=NYSEMKT&r=o&o=m&d=d&hm=performance_today_with_ah&fo=e%5B%5D')\n",
    "    time.sleep(2)\n",
    "    table_head = driver.find_element_by_xpath('/html/body/main/section/div[5]/div/div/div[2]/table/thead').text\n",
    "    table_body = driver.find_element_by_xpath('/html/body/main/section/div[5]/div/div/div[2]/table/tbody').text\n",
    "    raw_data = [table_head, table_body]\n",
    "    return raw_data\n",
    "    "
   ]
  },
  {
   "cell_type": "code",
   "execution_count": 77,
   "id": "central-renaissance",
   "metadata": {},
   "outputs": [
    {
     "name": "stdout",
     "output_type": "stream",
     "text": [
      "On the right page\n"
     ]
    },
    {
     "data": {
      "text/plain": [
       "['▴ ▴\\nSymbol\\n▴ ▴\\nCompany\\n▴ ▴\\nExchange\\n▴ ▴\\nIndustry\\n▴ ▴\\nMarket cap\\n▴ ▴\\nEBITDA\\n▴ ▴\\nP/E\\n▴ ▴\\nEV/EBITDA\\n▴ ▴\\nDebt/Equity\\n▴ ▴\\nAverage volume\\n▴ ▴\\nInstitutional ownership\\n▴ ▴\\nEarnings date\\n▴ ▴\\nPrice\\n▴ ▴\\nPerformance today',\n",
       " 'AAPL Apple Inc NASDAQ Consumer Electronics $1.97T $85.159B 32.37 24.07 3.96 113.145M 59.66% 27 Jan 2021 $121.39 +0.15%\\nMSFT Microsoft Corporation NASDAQ Internet Services & Infrastructure $1.76T $60.155B 34.88 27.69 1.55 30.361M 71.84% 26 Jan 2021 $235.11 -0.58%\\nAMZN Amazon.com Inc. NASDAQ Specialty Retail $1.53T $48.091B 71.58 31.10 2.44 3.834M 58.66% 2 Feb 2021 $3,075.73 +0.78%\\nGOOGL Alphabet Inc NASDAQ Internet Services & Infrastructure $1.38T $55.322B 34.23 22.72 0.44 N/A 80.25% 2 Feb 2021 $2,045.79 +1.04%\\nGOOG Alphabet Inc NASDAQ Internet Services & Infrastructure $1.38T N/A 41.05 N/A 0.44 1.613M 68.10% 2 Feb 2021 $2,055.95 +1.00%\\nFB Facebook Inc NASDAQ Internet Services & Infrastructure $805.95B $39.533B 28.55 19.38 0.24 19.371M 79.77% 27 Jan 2021 $290.82 +2.76%\\nBABA Alibaba Group Holding Ltd NYSE Specialty Retail $603.32B ¥17.718B 25.26 220.15 0.57 26.259M 43.86% 2 Feb 2021 $231.87 +2.03%\\nTSLA Tesla Inc NASDAQ Automobile Manufacturers $593.87B $4.316B 836.22 143.87 1.28 N/A 42.53% 27 Jan 2021 $611.32 -1.19%\\nBRK-A Berkshire Hathaway Inc. NYSE Multi-line Insurance $591.03B $80.317B 23.65 7.83 0.95 1.144k 17.82% N/A $391,540.00 +0.91%\\nBRK-B Berkshire Hathaway Inc. NYSE Multi-line Insurance $577.04B $80.317B 14.44 8.12 0.95 5.240M 69.00% 30 Apr 2021 $259.06 +0.89%\\nTSM Taiwan Semiconductor Manufacturing NYSE Semiconductors $553.79B NT$28.842B 56.82 572.98 0.49 15.267M 19.09% N/A $114.39 -1.86%\\nJPM JPMorgan Chase & Co. NYSE Diversified Banks $473.26B $44.021B 17.45 10.75 11.12 14.551M 71.93% N/A $152.68 -1.55%\\nV Visa Inc NYSE Consumer Finance $470.80B $14.703B 43.94 31.22 1.23 10.304M 96.02% 28 Jan 2021 $214.51 +0.46%\\nJNJ Johnson & Johnson NYSE Pharmaceuticals $422.47B $27.145B 29.50 15.89 1.76 8.071M 69.79% 26 Jan 2021 $166.04 +0.67%\\nWMT Walmart Inc NYSE Hypermarkets & Super Centers $372.73B $33.544B 28.33 12.20 2.04 8.668M 30.35% 18 Feb 2021 $136.67 +1.14%\\nMA Mastercard Incorporated NYSE Consumer Finance $350.66B $8.734B 57.21 40.45 4.24 4.638M 77.40% 28 Jan 2021 $362.91 -0.88%\\nUNH Unitedhealth Group Inc NYSE Managed Health Care $343.49B $25.296B 23.20 15.38 1.94 2.962M 89.32% N/A $379.06 +0.69%\\nDIS Walt Disney Co (The) NYSE Media $335.32B $7.208B N/A 53.85 1.36 8.929M 65.66% 11 Feb 2021 $184.87 -0.56%\\nBAC Bank Of America Corp. NYSE Diversified Banks $333.70B $20.838B 20.57 15.95 9.33 56.490M 71.10% N/A $38.31 -0.96%\\nPG Procter & Gamble Co. NYSE Household & Personal Products $315.54B $20.550B 24.76 16.27 1.57 N/A 66.12% N/A $137.54 +1.54%\\nNVDA NVIDIA Corp NASDAQ Semiconductors $314.26B $5.630B 73.16 55.77 0.70 9.584M 68.43% 24 Feb 2021 $518.06 +0.87%\\nHD Home Depot, Inc. NYSE Home Improvement Retail $311.07B $19.684B 25.36 16.86 20.39 4.570M 71.43% 23 Feb 2021 $302.20 -0.53%\\nPYPL PayPal Holdings Inc NASDAQ Consumer Finance $274.37B $4.617B 67.33 60.31 2.51 9.007M 85.54% 3 Feb 2021 $235.67 -2.22%\\nINTC Intel Corp. NASDAQ Semiconductors $263.57B $36.115B 12.94 7.52 0.89 28.486M 66.41% N/A $64.50 -0.57%\\nASML ASML Holding NV NASDAQ Semiconductor Equipment $253.53B €5.691B 94.31 33.73 0.97 1.151M 18.34% N/A $608.00 -2.82%\\nCMCSA Comcast Corp NASDAQ Cable & Satellite $248.27B $30.480B 23.99 11.33 2.02 20.522M 85.68% 28 Jan 2021 $55.19 +0.02%\\nVZ Verizon Communications Inc NYSE Telecommunication Services $235.82B $45.473B 13.53 7.47 3.64 16.838M 66.32% 26 Jan 2021 $58.90 +1.24%\\nXOM Exxon Mobil Corp. NYSE Integrated Oil & Gas $233.78B $19.489B N/A 15.52 1.07 N/A 52.20% 2 Feb 2021 $57.40 -0.54%\\nMPNGY Meituan Dianping NYSEMKT Internet Retail $228.90B ¥289.707M 317.98 6,886.08 0.71 53.853k 0.01% N/A $72.92 -4.07%\\nKO Coca-Cola Co NYSE Soft Drinks $225.57B $12.364B 29.47 20.29 3.42 17.136M 68.20% 10 Feb 2021 $53.85 +1.53%\\nADBE Adobe Inc NASDAQ Application Software $224.85B $4.399B 42.94 47.72 0.83 4.615M 86.10% 23 Mar 2021 $469.32 +0.05%\\nNFLX NetFlix Inc NASDAQ Media $222.71B $15.508B 81.16 15.11 2.55 5.340M 81.92% N/A $513.95 +1.16%\\nCSCO Cisco Systems, Inc. NASDAQ Communications Equipment $221.94B $13.687B 21.78 13.94 1.50 16.459M 74.11% 9 Feb 2021 $52.52 -0.10%\\nMPNGY Meituan Dianping NASDAQ Internet Retail $220.12B ¥289.707M 316.67 5,776.22 0.71 53.852k 0.01% N/A $72.92 -4.07%\\nTM Toyota Motor Corporation NYSE Automobile Manufacturers $214.06B ¥35.445B 12.47 739.70 1.59 291.033k 1.16% 10 Feb 2021 $154.90 +1.00%\\nT AT&T, Inc. NYSE Telecommunication Services $212.80B $53.896B N/A 6.67 2.14 N/A 53.53% 27 Jan 2021 $30.56 +0.82%\\nNKE Nike, Inc. NYSE Footwear $209.66B $4.437B 73.47 48.11 2.89 6.412M 83.93% 18 Mar 2021 $133.49 +0.38%\\nCVX Chevron Corp. NYSE Integrated Oil & Gas $207.22B $12.939B N/A 18.38 0.81 12.433M 62.86% 29 Jan 2021 $106.92 -0.52%\\nABT Abbott Laboratories NYSE Health Care Equipment $205.28B $7.489B 48.44 29.99 1.20 6.694M 75.58% 27 Jan 2021 $122.35 +0.23%\\nPDD Pinduoduo Inc NASDAQ Specialty Retail $200.28B N/A 0.00 N/A 1.64 8.954M 27.68% 17 Mar 2021 $131.53 +0.18%\\nPFE Pfizer Inc. NYSE Pharmaceuticals $198.19B $13.590B 20.95 16.61 1.44 31.536M 69.90% 2 Feb 2021 $36.63 +1.05%\\nAVGO Broadcom Inc NASDAQ Semiconductors $196.82B $11.426B 53.10 19.79 2.18 2.101M 83.17% 4 Mar 2021 $472.62 -1.95%\\nMRK Merck & Co Inc NYSE Pharmaceuticals $195.82B $12.108B 27.74 18.16 2.61 11.449M 75.98% 4 Feb 2021 $78.30 +1.18%\\nNVS Novartis AG NYSE Pharmaceuticals $194.12B $18.737B 17.11 12.72 1.33 N/A 10.08% 26 Jan 2021 $87.35 -0.07%\\nORCL Oracle Corp. NYSE Internet Services & Infrastructure $193.66B $16.908B 16.41 13.28 8.51 14.264M 49.83% 10 Mar 2021 $71.13 +1.25%\\nCRM Salesforce.Com Inc NYSE Application Software $192.57B $3.301B 46.67 56.39 0.60 7.585M 83.47% 25 Feb 2021 $210.77 +0.80%\\nABBV Abbvie Inc NYSE Pharmaceuticals $185.49B $19.032B 38.82 13.67 10.51 8.158M 70.00% 3 Feb 2021 $106.73 +0.71%\\nPEP PepsiCo Inc NASDAQ Soft Drinks $183.54B $12.628B 27.76 17.43 5.90 6.139M 72.82% 11 Feb 2021 $144.81 +1.48%\\nLLY Lilly(Eli) & Co NYSE Pharmaceuticals $181.30B $8.174B 27.17 23.19 7.23 3.804M 79.17% 29 Jan 2021 $186.34 +0.56%\\nTMO Thermo Fisher Scientific Inc. NYSE Life Sciences Tools & Services $181.17B $10.218B 28.15 18.27 1.00 2.039M 91.36% 1 Feb 2021 $458.57 -0.32%']"
      ]
     },
     "execution_count": 77,
     "metadata": {},
     "output_type": "execute_result"
    }
   ],
   "source": [
    "retrieve_data()"
   ]
  },
  {
   "cell_type": "code",
   "execution_count": 78,
   "id": "amended-overview",
   "metadata": {},
   "outputs": [
    {
     "name": "stdout",
     "output_type": "stream",
     "text": [
      "On the right page\n"
     ]
    },
    {
     "data": {
      "text/plain": [
       "['▴ ▴\\nSymbol\\n▴ ▴\\nCompany\\n▴ ▴\\nExchange\\n▴ ▴\\nIndustry\\n▴ ▴\\nMarket cap\\n▴ ▴\\nEBITDA\\n▴ ▴\\nP/E\\n▴ ▴\\nEV/EBITDA\\n▴ ▴\\nDebt/Equity\\n▴ ▴\\nAverage volume\\n▴ ▴\\nInstitutional ownership\\n▴ ▴\\nEarnings date\\n▴ ▴\\nPrice\\n▴ ▴\\nPerformance today',\n",
       " 'AAPL Apple Inc NASDAQ Consumer Electronics $1.97T $85.159B 32.37 24.07 3.96 113.145M 59.66% 27 Jan 2021 $121.39 +0.15%\\nMSFT Microsoft Corporation NASDAQ Internet Services & Infrastructure $1.76T $60.155B 34.88 27.69 1.55 30.361M 71.84% 26 Jan 2021 $235.11 -0.58%\\nAMZN Amazon.com Inc. NASDAQ Specialty Retail $1.53T $48.091B 71.58 31.10 2.44 3.834M 58.66% 2 Feb 2021 $3,075.73 +0.78%\\nGOOGL Alphabet Inc NASDAQ Internet Services & Infrastructure $1.38T $55.322B 34.23 22.72 0.44 N/A 80.25% 2 Feb 2021 $2,045.79 +1.04%\\nGOOG Alphabet Inc NASDAQ Internet Services & Infrastructure $1.38T N/A 41.05 N/A 0.44 1.613M 68.10% 2 Feb 2021 $2,055.95 +1.00%\\nFB Facebook Inc NASDAQ Internet Services & Infrastructure $805.95B $39.533B 28.55 19.38 0.24 19.371M 79.77% 27 Jan 2021 $290.82 +2.76%\\nBABA Alibaba Group Holding Ltd NYSE Specialty Retail $603.32B ¥17.718B 25.26 220.15 0.57 26.259M 43.86% 2 Feb 2021 $231.87 +2.03%\\nTSLA Tesla Inc NASDAQ Automobile Manufacturers $593.87B $4.316B 836.22 143.87 1.28 N/A 42.53% 27 Jan 2021 $611.32 -1.19%\\nBRK-A Berkshire Hathaway Inc. NYSE Multi-line Insurance $591.03B $80.317B 23.65 7.83 0.95 1.144k 17.82% N/A $391,540.00 +0.91%\\nBRK-B Berkshire Hathaway Inc. NYSE Multi-line Insurance $577.04B $80.317B 14.44 8.12 0.95 5.240M 69.00% 30 Apr 2021 $259.06 +0.89%\\nTSM Taiwan Semiconductor Manufacturing NYSE Semiconductors $553.79B NT$28.842B 56.82 572.98 0.49 15.267M 19.09% N/A $114.39 -1.86%\\nJPM JPMorgan Chase & Co. NYSE Diversified Banks $473.26B $44.021B 17.45 10.75 11.12 14.551M 71.93% N/A $152.68 -1.55%\\nV Visa Inc NYSE Consumer Finance $470.80B $14.703B 43.94 31.22 1.23 10.304M 96.02% 28 Jan 2021 $214.51 +0.46%\\nJNJ Johnson & Johnson NYSE Pharmaceuticals $422.47B $27.145B 29.50 15.89 1.76 8.071M 69.79% 26 Jan 2021 $166.04 +0.67%\\nWMT Walmart Inc NYSE Hypermarkets & Super Centers $372.73B $33.544B 28.33 12.20 2.04 8.668M 30.35% 18 Feb 2021 $136.67 +1.14%\\nMA Mastercard Incorporated NYSE Consumer Finance $350.66B $8.734B 57.21 40.45 4.24 4.638M 77.40% 28 Jan 2021 $362.91 -0.88%\\nUNH Unitedhealth Group Inc NYSE Managed Health Care $343.49B $25.296B 23.20 15.38 1.94 2.962M 89.32% N/A $379.06 +0.69%\\nDIS Walt Disney Co (The) NYSE Media $335.32B $7.208B N/A 53.85 1.36 8.929M 65.66% 11 Feb 2021 $184.87 -0.56%\\nBAC Bank Of America Corp. NYSE Diversified Banks $333.70B $20.838B 20.57 15.95 9.33 56.490M 71.10% N/A $38.31 -0.96%\\nPG Procter & Gamble Co. NYSE Household & Personal Products $315.54B $20.550B 24.76 16.27 1.57 N/A 66.12% N/A $137.54 +1.54%\\nNVDA NVIDIA Corp NASDAQ Semiconductors $314.26B $5.630B 73.16 55.77 0.70 9.584M 68.43% 24 Feb 2021 $518.06 +0.87%\\nHD Home Depot, Inc. NYSE Home Improvement Retail $311.07B $19.684B 25.36 16.86 20.39 4.570M 71.43% 23 Feb 2021 $302.20 -0.53%\\nPYPL PayPal Holdings Inc NASDAQ Consumer Finance $274.37B $4.617B 67.33 60.31 2.51 9.007M 85.54% 3 Feb 2021 $235.67 -2.22%\\nINTC Intel Corp. NASDAQ Semiconductors $263.57B $36.115B 12.94 7.52 0.89 28.486M 66.41% N/A $64.50 -0.57%\\nASML ASML Holding NV NASDAQ Semiconductor Equipment $253.53B €5.691B 94.31 33.73 0.97 1.151M 18.34% N/A $608.00 -2.82%\\nCMCSA Comcast Corp NASDAQ Cable & Satellite $248.27B $30.480B 23.99 11.33 2.02 20.522M 85.68% 28 Jan 2021 $55.19 +0.02%\\nVZ Verizon Communications Inc NYSE Telecommunication Services $235.82B $45.473B 13.53 7.47 3.64 16.838M 66.32% 26 Jan 2021 $58.90 +1.24%\\nXOM Exxon Mobil Corp. NYSE Integrated Oil & Gas $233.78B $19.489B N/A 15.52 1.07 N/A 52.20% 2 Feb 2021 $57.40 -0.54%\\nMPNGY Meituan Dianping NYSEMKT Internet Retail $228.90B ¥289.707M 317.98 6,886.08 0.71 53.853k 0.01% N/A $72.92 -4.07%\\nKO Coca-Cola Co NYSE Soft Drinks $225.57B $12.364B 29.47 20.29 3.42 17.136M 68.20% 10 Feb 2021 $53.85 +1.53%\\nADBE Adobe Inc NASDAQ Application Software $224.85B $4.399B 42.94 47.72 0.83 4.615M 86.10% 23 Mar 2021 $469.32 +0.05%\\nNFLX NetFlix Inc NASDAQ Media $222.71B $15.508B 81.16 15.11 2.55 5.340M 81.92% N/A $513.95 +1.16%\\nCSCO Cisco Systems, Inc. NASDAQ Communications Equipment $221.94B $13.687B 21.78 13.94 1.50 16.459M 74.11% 9 Feb 2021 $52.52 -0.10%\\nMPNGY Meituan Dianping NASDAQ Internet Retail $220.12B ¥289.707M 316.67 5,776.22 0.71 53.852k 0.01% N/A $72.92 -4.07%\\nTM Toyota Motor Corporation NYSE Automobile Manufacturers $214.06B ¥35.445B 12.47 739.70 1.59 291.033k 1.16% 10 Feb 2021 $154.90 +1.00%\\nT AT&T, Inc. NYSE Telecommunication Services $212.80B $53.896B N/A 6.67 2.14 N/A 53.53% 27 Jan 2021 $30.56 +0.82%\\nNKE Nike, Inc. NYSE Footwear $209.66B $4.437B 73.47 48.11 2.89 6.412M 83.93% 18 Mar 2021 $133.49 +0.38%\\nCVX Chevron Corp. NYSE Integrated Oil & Gas $207.22B $12.939B N/A 18.38 0.81 12.433M 62.86% 29 Jan 2021 $106.92 -0.52%\\nABT Abbott Laboratories NYSE Health Care Equipment $205.28B $7.489B 48.44 29.99 1.20 6.694M 75.58% 27 Jan 2021 $122.35 +0.23%\\nPDD Pinduoduo Inc NASDAQ Specialty Retail $200.28B N/A 0.00 N/A 1.64 8.954M 27.68% 17 Mar 2021 $131.53 +0.18%\\nPFE Pfizer Inc. NYSE Pharmaceuticals $198.19B $13.590B 20.95 16.61 1.44 31.536M 69.90% 2 Feb 2021 $36.63 +1.05%\\nAVGO Broadcom Inc NASDAQ Semiconductors $196.82B $11.426B 53.10 19.79 2.18 2.101M 83.17% 4 Mar 2021 $472.62 -1.95%\\nMRK Merck & Co Inc NYSE Pharmaceuticals $195.82B $12.108B 27.74 18.16 2.61 11.449M 75.98% 4 Feb 2021 $78.30 +1.18%\\nNVS Novartis AG NYSE Pharmaceuticals $194.12B $18.737B 17.11 12.72 1.33 N/A 10.08% 26 Jan 2021 $87.35 -0.07%\\nORCL Oracle Corp. NYSE Internet Services & Infrastructure $193.66B $16.908B 16.41 13.28 8.51 14.264M 49.83% 10 Mar 2021 $71.13 +1.25%\\nCRM Salesforce.Com Inc NYSE Application Software $192.57B $3.301B 46.67 56.39 0.60 7.585M 83.47% 25 Feb 2021 $210.77 +0.80%\\nABBV Abbvie Inc NYSE Pharmaceuticals $185.49B $19.032B 38.82 13.67 10.51 8.158M 70.00% 3 Feb 2021 $106.73 +0.71%\\nPEP PepsiCo Inc NASDAQ Soft Drinks $183.54B $12.628B 27.76 17.43 5.90 6.139M 72.82% 11 Feb 2021 $144.81 +1.48%\\nLLY Lilly(Eli) & Co NYSE Pharmaceuticals $181.30B $8.174B 27.17 23.19 7.23 3.804M 79.17% 29 Jan 2021 $186.34 +0.56%\\nTMO Thermo Fisher Scientific Inc. NYSE Life Sciences Tools & Services $181.17B $10.218B 28.15 18.27 1.00 2.039M 91.36% 1 Feb 2021 $458.57 -0.32%']"
      ]
     },
     "execution_count": 78,
     "metadata": {},
     "output_type": "execute_result"
    }
   ],
   "source": [
    "got_data = retrieve_data()\n",
    "got_data"
   ]
  },
  {
   "cell_type": "code",
   "execution_count": 79,
   "id": "tested-pittsburgh",
   "metadata": {},
   "outputs": [
    {
     "data": {
      "text/plain": [
       "'▴ ▴\\nSymbol\\n▴ ▴\\nCompany\\n▴ ▴\\nExchange\\n▴ ▴\\nIndustry\\n▴ ▴\\nMarket cap\\n▴ ▴\\nEBITDA\\n▴ ▴\\nP/E\\n▴ ▴\\nEV/EBITDA\\n▴ ▴\\nDebt/Equity\\n▴ ▴\\nAverage volume\\n▴ ▴\\nInstitutional ownership\\n▴ ▴\\nEarnings date\\n▴ ▴\\nPrice\\n▴ ▴\\nPerformance today'"
      ]
     },
     "execution_count": 79,
     "metadata": {},
     "output_type": "execute_result"
    }
   ],
   "source": [
    "got_data[0]"
   ]
  },
  {
   "cell_type": "code",
   "execution_count": 80,
   "id": "united-morris",
   "metadata": {},
   "outputs": [
    {
     "data": {
      "text/plain": [
       "['▴ ▴',\n",
       " 'Symbol',\n",
       " '▴ ▴',\n",
       " 'Company',\n",
       " '▴ ▴',\n",
       " 'Exchange',\n",
       " '▴ ▴',\n",
       " 'Industry',\n",
       " '▴ ▴',\n",
       " 'Market cap',\n",
       " '▴ ▴',\n",
       " 'EBITDA',\n",
       " '▴ ▴',\n",
       " 'P/E',\n",
       " '▴ ▴',\n",
       " 'EV/EBITDA',\n",
       " '▴ ▴',\n",
       " 'Debt/Equity',\n",
       " '▴ ▴',\n",
       " 'Average volume',\n",
       " '▴ ▴',\n",
       " 'Institutional ownership',\n",
       " '▴ ▴',\n",
       " 'Earnings date',\n",
       " '▴ ▴',\n",
       " 'Price',\n",
       " '▴ ▴',\n",
       " 'Performance today']"
      ]
     },
     "execution_count": 80,
     "metadata": {},
     "output_type": "execute_result"
    }
   ],
   "source": [
    "clean_data_head = got_data[0].split('\\n')\n",
    "clean_data_head"
   ]
  },
  {
   "cell_type": "code",
   "execution_count": 81,
   "id": "municipal-cleanup",
   "metadata": {},
   "outputs": [],
   "source": [
    "def remove_characters(x):\n",
    "    if x == '▴ ▴':\n",
    "        return False\n",
    "    else:\n",
    "        return True"
   ]
  },
  {
   "cell_type": "code",
   "execution_count": 82,
   "id": "satisfied-sheriff",
   "metadata": {},
   "outputs": [
    {
     "data": {
      "text/plain": [
       "['Symbol',\n",
       " 'Company',\n",
       " 'Exchange',\n",
       " 'Industry',\n",
       " 'Market cap',\n",
       " 'EBITDA',\n",
       " 'P/E',\n",
       " 'EV/EBITDA',\n",
       " 'Debt/Equity',\n",
       " 'Average volume',\n",
       " 'Institutional ownership',\n",
       " 'Earnings date',\n",
       " 'Price',\n",
       " 'Performance today']"
      ]
     },
     "execution_count": 82,
     "metadata": {},
     "output_type": "execute_result"
    }
   ],
   "source": [
    "categories = list(filter(remove_characters, clean_data_head))\n",
    "categories"
   ]
  },
  {
   "cell_type": "code",
   "execution_count": 83,
   "id": "fuzzy-forge",
   "metadata": {},
   "outputs": [
    {
     "data": {
      "text/plain": [
       "'AAPL Apple Inc NASDAQ Consumer Electronics $1.97T $85.159B 32.37 24.07 3.96 113.145M 59.66% 27 Jan 2021 $121.39 +0.15%\\nMSFT Microsoft Corporation NASDAQ Internet Services & Infrastructure $1.76T $60.155B 34.88 27.69 1.55 30.361M 71.84% 26 Jan 2021 $235.11 -0.58%\\nAMZN Amazon.com Inc. NASDAQ Specialty Retail $1.53T $48.091B 71.58 31.10 2.44 3.834M 58.66% 2 Feb 2021 $3,075.73 +0.78%\\nGOOGL Alphabet Inc NASDAQ Internet Services & Infrastructure $1.38T $55.322B 34.23 22.72 0.44 N/A 80.25% 2 Feb 2021 $2,045.79 +1.04%\\nGOOG Alphabet Inc NASDAQ Internet Services & Infrastructure $1.38T N/A 41.05 N/A 0.44 1.613M 68.10% 2 Feb 2021 $2,055.95 +1.00%\\nFB Facebook Inc NASDAQ Internet Services & Infrastructure $805.95B $39.533B 28.55 19.38 0.24 19.371M 79.77% 27 Jan 2021 $290.82 +2.76%\\nBABA Alibaba Group Holding Ltd NYSE Specialty Retail $603.32B ¥17.718B 25.26 220.15 0.57 26.259M 43.86% 2 Feb 2021 $231.87 +2.03%\\nTSLA Tesla Inc NASDAQ Automobile Manufacturers $593.87B $4.316B 836.22 143.87 1.28 N/A 42.53% 27 Jan 2021 $611.32 -1.19%\\nBRK-A Berkshire Hathaway Inc. NYSE Multi-line Insurance $591.03B $80.317B 23.65 7.83 0.95 1.144k 17.82% N/A $391,540.00 +0.91%\\nBRK-B Berkshire Hathaway Inc. NYSE Multi-line Insurance $577.04B $80.317B 14.44 8.12 0.95 5.240M 69.00% 30 Apr 2021 $259.06 +0.89%\\nTSM Taiwan Semiconductor Manufacturing NYSE Semiconductors $553.79B NT$28.842B 56.82 572.98 0.49 15.267M 19.09% N/A $114.39 -1.86%\\nJPM JPMorgan Chase & Co. NYSE Diversified Banks $473.26B $44.021B 17.45 10.75 11.12 14.551M 71.93% N/A $152.68 -1.55%\\nV Visa Inc NYSE Consumer Finance $470.80B $14.703B 43.94 31.22 1.23 10.304M 96.02% 28 Jan 2021 $214.51 +0.46%\\nJNJ Johnson & Johnson NYSE Pharmaceuticals $422.47B $27.145B 29.50 15.89 1.76 8.071M 69.79% 26 Jan 2021 $166.04 +0.67%\\nWMT Walmart Inc NYSE Hypermarkets & Super Centers $372.73B $33.544B 28.33 12.20 2.04 8.668M 30.35% 18 Feb 2021 $136.67 +1.14%\\nMA Mastercard Incorporated NYSE Consumer Finance $350.66B $8.734B 57.21 40.45 4.24 4.638M 77.40% 28 Jan 2021 $362.91 -0.88%\\nUNH Unitedhealth Group Inc NYSE Managed Health Care $343.49B $25.296B 23.20 15.38 1.94 2.962M 89.32% N/A $379.06 +0.69%\\nDIS Walt Disney Co (The) NYSE Media $335.32B $7.208B N/A 53.85 1.36 8.929M 65.66% 11 Feb 2021 $184.87 -0.56%\\nBAC Bank Of America Corp. NYSE Diversified Banks $333.70B $20.838B 20.57 15.95 9.33 56.490M 71.10% N/A $38.31 -0.96%\\nPG Procter & Gamble Co. NYSE Household & Personal Products $315.54B $20.550B 24.76 16.27 1.57 N/A 66.12% N/A $137.54 +1.54%\\nNVDA NVIDIA Corp NASDAQ Semiconductors $314.26B $5.630B 73.16 55.77 0.70 9.584M 68.43% 24 Feb 2021 $518.06 +0.87%\\nHD Home Depot, Inc. NYSE Home Improvement Retail $311.07B $19.684B 25.36 16.86 20.39 4.570M 71.43% 23 Feb 2021 $302.20 -0.53%\\nPYPL PayPal Holdings Inc NASDAQ Consumer Finance $274.37B $4.617B 67.33 60.31 2.51 9.007M 85.54% 3 Feb 2021 $235.67 -2.22%\\nINTC Intel Corp. NASDAQ Semiconductors $263.57B $36.115B 12.94 7.52 0.89 28.486M 66.41% N/A $64.50 -0.57%\\nASML ASML Holding NV NASDAQ Semiconductor Equipment $253.53B €5.691B 94.31 33.73 0.97 1.151M 18.34% N/A $608.00 -2.82%\\nCMCSA Comcast Corp NASDAQ Cable & Satellite $248.27B $30.480B 23.99 11.33 2.02 20.522M 85.68% 28 Jan 2021 $55.19 +0.02%\\nVZ Verizon Communications Inc NYSE Telecommunication Services $235.82B $45.473B 13.53 7.47 3.64 16.838M 66.32% 26 Jan 2021 $58.90 +1.24%\\nXOM Exxon Mobil Corp. NYSE Integrated Oil & Gas $233.78B $19.489B N/A 15.52 1.07 N/A 52.20% 2 Feb 2021 $57.40 -0.54%\\nMPNGY Meituan Dianping NYSEMKT Internet Retail $228.90B ¥289.707M 317.98 6,886.08 0.71 53.853k 0.01% N/A $72.92 -4.07%\\nKO Coca-Cola Co NYSE Soft Drinks $225.57B $12.364B 29.47 20.29 3.42 17.136M 68.20% 10 Feb 2021 $53.85 +1.53%\\nADBE Adobe Inc NASDAQ Application Software $224.85B $4.399B 42.94 47.72 0.83 4.615M 86.10% 23 Mar 2021 $469.32 +0.05%\\nNFLX NetFlix Inc NASDAQ Media $222.71B $15.508B 81.16 15.11 2.55 5.340M 81.92% N/A $513.95 +1.16%\\nCSCO Cisco Systems, Inc. NASDAQ Communications Equipment $221.94B $13.687B 21.78 13.94 1.50 16.459M 74.11% 9 Feb 2021 $52.52 -0.10%\\nMPNGY Meituan Dianping NASDAQ Internet Retail $220.12B ¥289.707M 316.67 5,776.22 0.71 53.852k 0.01% N/A $72.92 -4.07%\\nTM Toyota Motor Corporation NYSE Automobile Manufacturers $214.06B ¥35.445B 12.47 739.70 1.59 291.033k 1.16% 10 Feb 2021 $154.90 +1.00%\\nT AT&T, Inc. NYSE Telecommunication Services $212.80B $53.896B N/A 6.67 2.14 N/A 53.53% 27 Jan 2021 $30.56 +0.82%\\nNKE Nike, Inc. NYSE Footwear $209.66B $4.437B 73.47 48.11 2.89 6.412M 83.93% 18 Mar 2021 $133.49 +0.38%\\nCVX Chevron Corp. NYSE Integrated Oil & Gas $207.22B $12.939B N/A 18.38 0.81 12.433M 62.86% 29 Jan 2021 $106.92 -0.52%\\nABT Abbott Laboratories NYSE Health Care Equipment $205.28B $7.489B 48.44 29.99 1.20 6.694M 75.58% 27 Jan 2021 $122.35 +0.23%\\nPDD Pinduoduo Inc NASDAQ Specialty Retail $200.28B N/A 0.00 N/A 1.64 8.954M 27.68% 17 Mar 2021 $131.53 +0.18%\\nPFE Pfizer Inc. NYSE Pharmaceuticals $198.19B $13.590B 20.95 16.61 1.44 31.536M 69.90% 2 Feb 2021 $36.63 +1.05%\\nAVGO Broadcom Inc NASDAQ Semiconductors $196.82B $11.426B 53.10 19.79 2.18 2.101M 83.17% 4 Mar 2021 $472.62 -1.95%\\nMRK Merck & Co Inc NYSE Pharmaceuticals $195.82B $12.108B 27.74 18.16 2.61 11.449M 75.98% 4 Feb 2021 $78.30 +1.18%\\nNVS Novartis AG NYSE Pharmaceuticals $194.12B $18.737B 17.11 12.72 1.33 N/A 10.08% 26 Jan 2021 $87.35 -0.07%\\nORCL Oracle Corp. NYSE Internet Services & Infrastructure $193.66B $16.908B 16.41 13.28 8.51 14.264M 49.83% 10 Mar 2021 $71.13 +1.25%\\nCRM Salesforce.Com Inc NYSE Application Software $192.57B $3.301B 46.67 56.39 0.60 7.585M 83.47% 25 Feb 2021 $210.77 +0.80%\\nABBV Abbvie Inc NYSE Pharmaceuticals $185.49B $19.032B 38.82 13.67 10.51 8.158M 70.00% 3 Feb 2021 $106.73 +0.71%\\nPEP PepsiCo Inc NASDAQ Soft Drinks $183.54B $12.628B 27.76 17.43 5.90 6.139M 72.82% 11 Feb 2021 $144.81 +1.48%\\nLLY Lilly(Eli) & Co NYSE Pharmaceuticals $181.30B $8.174B 27.17 23.19 7.23 3.804M 79.17% 29 Jan 2021 $186.34 +0.56%\\nTMO Thermo Fisher Scientific Inc. NYSE Life Sciences Tools & Services $181.17B $10.218B 28.15 18.27 1.00 2.039M 91.36% 1 Feb 2021 $458.57 -0.32%'"
      ]
     },
     "execution_count": 83,
     "metadata": {},
     "output_type": "execute_result"
    }
   ],
   "source": [
    "got_data[1]"
   ]
  },
  {
   "cell_type": "code",
   "execution_count": 84,
   "id": "touched-brake",
   "metadata": {},
   "outputs": [
    {
     "data": {
      "text/plain": [
       "'AAPL Apple Inc NASDAQ Consumer Electronics $1.97T $85.159B 32.37 24.07 3.96 113.145M 59.66% 27 Jan 2021 $121.39 +0.15%'"
      ]
     },
     "execution_count": 84,
     "metadata": {},
     "output_type": "execute_result"
    }
   ],
   "source": [
    "clean_data_body = got_data[1].split('\\n')\n",
    "clean_data_body[0]"
   ]
  },
  {
   "cell_type": "code",
   "execution_count": 85,
   "id": "quick-moral",
   "metadata": {},
   "outputs": [
    {
     "data": {
      "text/plain": [
       "['AAPL Apple Inc NASDAQ Consumer Electronics ',\n",
       " '1.97T ',\n",
       " '85.159B 32.37 24.07 3.96 113.145M 59.66% 27 Jan 2021 ',\n",
       " '121.39 +0.15%']"
      ]
     },
     "execution_count": 85,
     "metadata": {},
     "output_type": "execute_result"
    }
   ],
   "source": [
    "split_company = clean_data_body[0].split('$')\n",
    "split_company"
   ]
  },
  {
   "cell_type": "code",
   "execution_count": 86,
   "id": "superb-victorian",
   "metadata": {},
   "outputs": [],
   "source": [
    "# we want:\n",
    "# symbol,\n",
    "# company name\n",
    "# exchange,\n",
    "# price\n",
    "# and store them all inside an object"
   ]
  },
  {
   "cell_type": "code",
   "execution_count": 87,
   "id": "italian-ethics",
   "metadata": {},
   "outputs": [
    {
     "name": "stdout",
     "output_type": "stream",
     "text": [
      "['Apple', 'Inc']\n",
      "NASDAQ\n",
      "AAPL\n",
      "121.39\n"
     ]
    }
   ],
   "source": [
    "split_row_one = split_company[0].split(' ')\n",
    "split_row_two = split_company[1].split(' ')\n",
    "split_row_three = split_company[2].split(' ')\n",
    "split_row_four = split_company[3].split(' ')\n",
    "stop = ['NASDAQ', 'NYSE', 'NYSEMKT']\n",
    "\n",
    "symbol = split_row_one[0]\n",
    "price = split_row_four[0]\n",
    "for n in stop:\n",
    "    if n in split_company[0]:\n",
    "        exchange = n\n",
    "a = split_row_one.index(exchange)\n",
    "company_name_arr = split_row_one[1:a]\n",
    "company_name = ''.join(company_name_arr)\n",
    "\n",
    "print(company_name_arr)\n",
    "print(exchange)\n",
    "print(symbol)\n",
    "print(price)"
   ]
  },
  {
   "cell_type": "code",
   "execution_count": 88,
   "id": "tender-standard",
   "metadata": {},
   "outputs": [],
   "source": [
    "def parse_company(company):\n",
    "    result={}\n",
    "    split_row_one = split_company[0].split(' ')\n",
    "    split_row_two = split_company[1].split(' ')\n",
    "    split_row_three = split_company[2].split(' ')\n",
    "    split_row_four = split_company[3].split(' ')\n",
    "    stop = ['NASDAQ', 'NYSE', 'NYSEMKT']\n",
    "\n",
    "    symbol = split_row_one[0]\n",
    "    price = split_row_four[0]\n",
    "    for n in stop:\n",
    "        if n in split_company[0]:\n",
    "            exchange = n\n",
    "    a = split_row_one.index(exchange)\n",
    "    company_name_arr = split_row_one[1:a]\n",
    "    # company_name = ' '.join(str(e) for e in company_name_arr)\n",
    "    company_name = ' '.join(company_name_arr)\n",
    "    \n",
    "    result['symbol'] = symbol\n",
    "    result['company_name'] = company_name\n",
    "    result['exchange'] = exchange\n",
    "    result['price'] = price\n",
    "    result['date'] = datetime.datetime.now()\n",
    "           \n",
    "    return result\n"
   ]
  },
  {
   "cell_type": "code",
   "execution_count": 89,
   "id": "alien-divide",
   "metadata": {},
   "outputs": [],
   "source": [
    "all_company_data = []\n",
    "for stock in clean_data_body:\n",
    "    if 'N/A' in stock:\n",
    "        continue\n",
    "    elif '¥' in stock:\n",
    "        continue\n",
    "    elif '€' in stock:\n",
    "        continue\n",
    "    split_company = stock.split('$')\n",
    "    \n",
    "    x = parse_company(split_company)\n",
    "    all_company_data.append(x)"
   ]
  },
  {
   "cell_type": "code",
   "execution_count": 90,
   "id": "appreciated-motor",
   "metadata": {},
   "outputs": [
    {
     "data": {
      "text/plain": [
       "[['Symbol',\n",
       "  'Company',\n",
       "  'Exchange',\n",
       "  'Industry',\n",
       "  'Market cap',\n",
       "  'EBITDA',\n",
       "  'P/E',\n",
       "  'EV/EBITDA',\n",
       "  'Debt/Equity',\n",
       "  'Average volume',\n",
       "  'Institutional ownership',\n",
       "  'Earnings date',\n",
       "  'Price',\n",
       "  'Performance today'],\n",
       " [{'symbol': 'AAPL',\n",
       "   'company_name': 'Apple Inc',\n",
       "   'exchange': 'NASDAQ',\n",
       "   'price': '121.39',\n",
       "   'date': datetime.datetime(2021, 3, 29, 15, 27, 52, 709415)},\n",
       "  {'symbol': 'MSFT',\n",
       "   'company_name': 'Microsoft Corporation',\n",
       "   'exchange': 'NASDAQ',\n",
       "   'price': '235.11',\n",
       "   'date': datetime.datetime(2021, 3, 29, 15, 27, 52, 709415)},\n",
       "  {'symbol': 'AMZN',\n",
       "   'company_name': 'Amazon.com Inc.',\n",
       "   'exchange': 'NASDAQ',\n",
       "   'price': '3,075.73',\n",
       "   'date': datetime.datetime(2021, 3, 29, 15, 27, 52, 709415)},\n",
       "  {'symbol': 'FB',\n",
       "   'company_name': 'Facebook Inc',\n",
       "   'exchange': 'NASDAQ',\n",
       "   'price': '290.82',\n",
       "   'date': datetime.datetime(2021, 3, 29, 15, 27, 52, 709415)},\n",
       "  {'symbol': 'BRK-B',\n",
       "   'company_name': 'Berkshire Hathaway Inc.',\n",
       "   'exchange': 'NYSE',\n",
       "   'price': '259.06',\n",
       "   'date': datetime.datetime(2021, 3, 29, 15, 27, 52, 709415)},\n",
       "  {'symbol': 'V',\n",
       "   'company_name': 'Visa Inc',\n",
       "   'exchange': 'NYSE',\n",
       "   'price': '214.51',\n",
       "   'date': datetime.datetime(2021, 3, 29, 15, 27, 52, 709415)},\n",
       "  {'symbol': 'JNJ',\n",
       "   'company_name': 'Johnson & Johnson',\n",
       "   'exchange': 'NYSE',\n",
       "   'price': '166.04',\n",
       "   'date': datetime.datetime(2021, 3, 29, 15, 27, 52, 709415)},\n",
       "  {'symbol': 'WMT',\n",
       "   'company_name': 'Walmart Inc',\n",
       "   'exchange': 'NYSE',\n",
       "   'price': '136.67',\n",
       "   'date': datetime.datetime(2021, 3, 29, 15, 27, 52, 709415)},\n",
       "  {'symbol': 'MA',\n",
       "   'company_name': 'Mastercard Incorporated',\n",
       "   'exchange': 'NYSE',\n",
       "   'price': '362.91',\n",
       "   'date': datetime.datetime(2021, 3, 29, 15, 27, 52, 709415)},\n",
       "  {'symbol': 'NVDA',\n",
       "   'company_name': 'NVIDIA Corp',\n",
       "   'exchange': 'NASDAQ',\n",
       "   'price': '518.06',\n",
       "   'date': datetime.datetime(2021, 3, 29, 15, 27, 52, 709415)},\n",
       "  {'symbol': 'HD',\n",
       "   'company_name': 'Home Depot, Inc.',\n",
       "   'exchange': 'NYSE',\n",
       "   'price': '302.20',\n",
       "   'date': datetime.datetime(2021, 3, 29, 15, 27, 52, 709415)},\n",
       "  {'symbol': 'PYPL',\n",
       "   'company_name': 'PayPal Holdings Inc',\n",
       "   'exchange': 'NASDAQ',\n",
       "   'price': '235.67',\n",
       "   'date': datetime.datetime(2021, 3, 29, 15, 27, 52, 709415)},\n",
       "  {'symbol': 'CMCSA',\n",
       "   'company_name': 'Comcast Corp',\n",
       "   'exchange': 'NASDAQ',\n",
       "   'price': '55.19',\n",
       "   'date': datetime.datetime(2021, 3, 29, 15, 27, 52, 709415)},\n",
       "  {'symbol': 'VZ',\n",
       "   'company_name': 'Verizon Communications Inc',\n",
       "   'exchange': 'NYSE',\n",
       "   'price': '58.90',\n",
       "   'date': datetime.datetime(2021, 3, 29, 15, 27, 52, 709415)},\n",
       "  {'symbol': 'KO',\n",
       "   'company_name': 'Coca-Cola Co',\n",
       "   'exchange': 'NYSE',\n",
       "   'price': '53.85',\n",
       "   'date': datetime.datetime(2021, 3, 29, 15, 27, 52, 709415)},\n",
       "  {'symbol': 'ADBE',\n",
       "   'company_name': 'Adobe Inc',\n",
       "   'exchange': 'NASDAQ',\n",
       "   'price': '469.32',\n",
       "   'date': datetime.datetime(2021, 3, 29, 15, 27, 52, 709415)},\n",
       "  {'symbol': 'CSCO',\n",
       "   'company_name': 'Cisco Systems, Inc.',\n",
       "   'exchange': 'NASDAQ',\n",
       "   'price': '52.52',\n",
       "   'date': datetime.datetime(2021, 3, 29, 15, 27, 52, 709415)},\n",
       "  {'symbol': 'NKE',\n",
       "   'company_name': 'Nike, Inc.',\n",
       "   'exchange': 'NYSE',\n",
       "   'price': '133.49',\n",
       "   'date': datetime.datetime(2021, 3, 29, 15, 27, 52, 709415)},\n",
       "  {'symbol': 'ABT',\n",
       "   'company_name': 'Abbott Laboratories',\n",
       "   'exchange': 'NYSE',\n",
       "   'price': '122.35',\n",
       "   'date': datetime.datetime(2021, 3, 29, 15, 27, 52, 709415)},\n",
       "  {'symbol': 'PFE',\n",
       "   'company_name': 'Pfizer Inc.',\n",
       "   'exchange': 'NYSE',\n",
       "   'price': '36.63',\n",
       "   'date': datetime.datetime(2021, 3, 29, 15, 27, 52, 709415)},\n",
       "  {'symbol': 'AVGO',\n",
       "   'company_name': 'Broadcom Inc',\n",
       "   'exchange': 'NASDAQ',\n",
       "   'price': '472.62',\n",
       "   'date': datetime.datetime(2021, 3, 29, 15, 27, 52, 709415)},\n",
       "  {'symbol': 'MRK',\n",
       "   'company_name': 'Merck & Co Inc',\n",
       "   'exchange': 'NYSE',\n",
       "   'price': '78.30',\n",
       "   'date': datetime.datetime(2021, 3, 29, 15, 27, 52, 709415)},\n",
       "  {'symbol': 'ORCL',\n",
       "   'company_name': 'Oracle Corp.',\n",
       "   'exchange': 'NYSE',\n",
       "   'price': '71.13',\n",
       "   'date': datetime.datetime(2021, 3, 29, 15, 27, 52, 709415)},\n",
       "  {'symbol': 'CRM',\n",
       "   'company_name': 'Salesforce.Com Inc',\n",
       "   'exchange': 'NYSE',\n",
       "   'price': '210.77',\n",
       "   'date': datetime.datetime(2021, 3, 29, 15, 27, 52, 709415)},\n",
       "  {'symbol': 'ABBV',\n",
       "   'company_name': 'Abbvie Inc',\n",
       "   'exchange': 'NYSE',\n",
       "   'price': '106.73',\n",
       "   'date': datetime.datetime(2021, 3, 29, 15, 27, 52, 709415)},\n",
       "  {'symbol': 'PEP',\n",
       "   'company_name': 'PepsiCo Inc',\n",
       "   'exchange': 'NASDAQ',\n",
       "   'price': '144.81',\n",
       "   'date': datetime.datetime(2021, 3, 29, 15, 27, 52, 709415)},\n",
       "  {'symbol': 'LLY',\n",
       "   'company_name': 'Lilly(Eli) & Co',\n",
       "   'exchange': 'NYSE',\n",
       "   'price': '186.34',\n",
       "   'date': datetime.datetime(2021, 3, 29, 15, 27, 52, 709415)},\n",
       "  {'symbol': 'TMO',\n",
       "   'company_name': 'Thermo Fisher Scientific Inc.',\n",
       "   'exchange': 'NYSE',\n",
       "   'price': '458.57',\n",
       "   'date': datetime.datetime(2021, 3, 29, 15, 27, 52, 709415)}]]"
      ]
     },
     "execution_count": 90,
     "metadata": {},
     "output_type": "execute_result"
    }
   ],
   "source": [
    "final_list = [categories, all_company_data]\n",
    "final_list"
   ]
  },
  {
   "cell_type": "code",
   "execution_count": 91,
   "id": "hearing-governor",
   "metadata": {},
   "outputs": [],
   "source": [
    "db = client.stock_database\n",
    "\n",
    "#def store_data(parsed_data):\n",
    "\n",
    "categories = db.categories\n",
    "stocks = db.stocks"
   ]
  },
  {
   "cell_type": "code",
   "execution_count": 92,
   "id": "cross-rachel",
   "metadata": {},
   "outputs": [],
   "source": [
    "# insert each category\n",
    "def store_data(final_list):\n",
    "    categories = db.categories\n",
    "    stocks = db.stocks\n",
    "    c = final_list[0]\n",
    "    for item in c:\n",
    "        category = {\n",
    "            'category': item\n",
    "        }\n",
    "        categories.insert_one(category)\n",
    "    stocks.insert_many(final_list[1])\n",
    "    return 'Items added to DB'"
   ]
  },
  {
   "cell_type": "code",
   "execution_count": 133,
   "id": "relative-startup",
   "metadata": {},
   "outputs": [],
   "source": [
    "def view_stock(exchange, symbol):\n",
    "    website = urls['view_stock'](exchange, symbol)\n",
    "    driver.get(website)\n",
    "    time.sleep(3)\n",
    "    if '404' in driver.page_source and \"Sorry, we couldn't find the page you requested\" in driver.page_source:\n",
    "        return {\n",
    "            'exchange': exchange,\n",
    "            'symbol': symbol,\n",
    "            'message': 'Please double check the exchange, and symbol. Try again'\n",
    "        }\n",
    "    symbol = driver.find_element_by_xpath('/html/body/main/section/div[2]/div/div[1]/h1/div[1]').text\n",
    "    exchange = driver.find_element_by_xpath('/html/body/main/section/div[2]/div/div[1]/div/nav/ol/li[1]/a').text\n",
    "    company_name = driver.find_element_by_xpath('/html/body/main/section/div[2]/div/div[1]/h1/div[1]').text\n",
    "    price = driver.find_element_by_xpath('/html/body/main/section/div[3]/div/div[1]/div/div/div[2]/div/div[1]/span[1]').text\n",
    "    result = {\n",
    "        'symbol': symbol,\n",
    "        'exchange': exchange,\n",
    "        'company_name': company_name,\n",
    "        'price': price\n",
    "    }\n",
    "\n",
    "    return result"
   ]
  },
  {
   "cell_type": "code",
   "execution_count": 134,
   "id": "joint-connectivity",
   "metadata": {},
   "outputs": [
    {
     "data": {
      "text/plain": [
       "{'symbol': 'TSLA',\n",
       " 'exchange': 'NASDAQ',\n",
       " 'company_name': 'TSLA',\n",
       " 'price': '$611.32'}"
      ]
     },
     "execution_count": 134,
     "metadata": {},
     "output_type": "execute_result"
    }
   ],
   "source": [
    "view_stock('nasdaq','tsla')"
   ]
  },
  {
   "cell_type": "code",
   "execution_count": 167,
   "id": "modular-brain",
   "metadata": {},
   "outputs": [],
   "source": [
    "def compare_price(symbol):\n",
    "    symbol = symbol.upper()\n",
    "    s = stocks.find_one({'symbol': symbol})\n",
    "    website = urls['view_stock'](s['exchange'], symbol)\n",
    "    driver.get(website)\n",
    "    time.sleep(3)\n",
    "    current_price = float(driver.find_element_by_xpath('/html/body/main/section/div[3]/div/div[1]/div/div/div[2]/div/div[1]/span[1]').text[1:])\n",
    "    previous_price = float(s.get('price'))\n",
    "    print(current_price, previous_price)\n",
    "    return current_price - previous_price"
   ]
  },
  {
   "cell_type": "code",
   "execution_count": 168,
   "id": "adverse-church",
   "metadata": {},
   "outputs": [
    {
     "name": "stdout",
     "output_type": "stream",
     "text": [
      "121.39 121.39\n"
     ]
    },
    {
     "data": {
      "text/plain": [
       "0.0"
      ]
     },
     "execution_count": 168,
     "metadata": {},
     "output_type": "execute_result"
    }
   ],
   "source": [
    "compare_price('aapl')"
   ]
  },
  {
   "cell_type": "code",
   "execution_count": null,
   "id": "electric-terrain",
   "metadata": {},
   "outputs": [],
   "source": []
  },
  {
   "cell_type": "code",
   "execution_count": null,
   "id": "interested-vermont",
   "metadata": {},
   "outputs": [],
   "source": []
  }
 ],
 "metadata": {
  "kernelspec": {
   "display_name": "Python 3",
   "language": "python",
   "name": "python3"
  },
  "language_info": {
   "codemirror_mode": {
    "name": "ipython",
    "version": 3
   },
   "file_extension": ".py",
   "mimetype": "text/x-python",
   "name": "python",
   "nbconvert_exporter": "python",
   "pygments_lexer": "ipython3",
   "version": "3.9.2"
  }
 },
 "nbformat": 4,
 "nbformat_minor": 5
}
